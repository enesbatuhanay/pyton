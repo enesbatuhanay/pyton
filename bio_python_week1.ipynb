{
  "nbformat": 4,
  "nbformat_minor": 0,
  "metadata": {
    "colab": {
      "name": "Untitled27.ipynb",
      "provenance": []
    },
    "kernelspec": {
      "name": "python3",
      "display_name": "Python 3"
    },
    "language_info": {
      "name": "python"
    }
  },
  "cells": [
    {
      "cell_type": "code",
      "execution_count": 30,
      "metadata": {
        "colab": {
          "base_uri": "https://localhost:8080/",
          "height": 363
        },
        "id": "TNo_sdMUxiYu",
        "outputId": "736fb7f4-6aa5-41fb-f14c-15d074bc4dac"
      },
      "outputs": [
        {
          "output_type": "stream",
          "name": "stdout",
          "text": [
            "Collecting biopython==1.71\n",
            "  Downloading biopython-1.71.tar.gz (16.0 MB)\n",
            "\u001b[K     |████████████████████████████████| 16.0 MB 21.9 MB/s \n",
            "\u001b[?25hRequirement already satisfied: numpy in /usr/local/lib/python3.7/dist-packages (from biopython==1.71) (1.19.5)\n",
            "Building wheels for collected packages: biopython\n",
            "  Building wheel for biopython (setup.py) ... \u001b[?25l\u001b[?25hdone\n",
            "  Created wheel for biopython: filename=biopython-1.71-cp37-cp37m-linux_x86_64.whl size=2208495 sha256=386ec6b7eb3ab9b7e2ee1c8f068017a10638ed557bae7f4399095199decc205d\n",
            "  Stored in directory: /root/.cache/pip/wheels/48/85/4b/a9c428fb719da72b6c4c69c85d422b019becd050358f1ff3e4\n",
            "Successfully built biopython\n",
            "Installing collected packages: biopython\n",
            "  Attempting uninstall: biopython\n",
            "    Found existing installation: biopython 1.79\n",
            "    Uninstalling biopython-1.79:\n",
            "      Successfully uninstalled biopython-1.79\n",
            "Successfully installed biopython-1.71\n"
          ]
        },
        {
          "output_type": "display_data",
          "data": {
            "application/vnd.colab-display-data+json": {
              "pip_warning": {
                "packages": [
                  "Bio"
                ]
              }
            }
          },
          "metadata": {}
        }
      ],
      "source": [
        "!pip install biopython==1.71\n"
      ]
    },
    {
      "cell_type": "code",
      "source": [
        "### Learning objectives\n",
        "### Manipulate Sequence Objects\n",
        "### Annotate Sequence Objects\n",
        "### Read/write Fasta file\n",
        "### Blasting Sequences\n",
        "### Multiple Alignment Sequences"
      ],
      "metadata": {
        "id": "ST2upjQk8xkX"
      },
      "execution_count": 16,
      "outputs": []
    },
    {
      "cell_type": "code",
      "source": [
        "### The Seq Object\n",
        "### Biological sequences are arguably the central object in Bioinformatics. Biopython sequences are essentially strings of letters like AGTACACTGGT \n",
        "## as seen in common biological file formats.\n",
        "\n",
        "### The Biopython Seq object is defined in the Bio.Seq module\n",
        "\n",
        "### The Seq object is different from traditional python strings:\n",
        "\n",
        "### 1. It supports most of the string methods but it also comes with its specifc set of methods\n",
        "### translate() - Turns a nucleotide sequence into a protein sequence.\n",
        "### reverse_complement() - Returns the reverse complement sequence.\n",
        "### complement() - Returns the complement sequence.\n",
        "### transcribe() -Returns the RNA sequence from a DNA sequence.\n",
        "### back_transcribe() - Returns the DNA sequence from an RNA sequence.\n",
        "### ungap() - Return a copy of the sequence without the gap character(s).\n"
      ],
      "metadata": {
        "id": "owOxVr18ApCg"
      },
      "execution_count": null,
      "outputs": []
    },
    {
      "cell_type": "code",
      "source": [
        "from Bio.Seq import Seq\n",
        "my_seq = Seq(\"AGTACACTGGT\")\n",
        "my_seq"
      ],
      "metadata": {
        "colab": {
          "base_uri": "https://localhost:8080/"
        },
        "id": "29_uRaTrEQt3",
        "outputId": "95bac50d-a4cb-4563-96eb-4a0ffc98437a"
      },
      "execution_count": 1,
      "outputs": [
        {
          "output_type": "execute_result",
          "data": {
            "text/plain": [
              "Seq('AGTACACTGGT', Alphabet())"
            ]
          },
          "metadata": {},
          "execution_count": 1
        }
      ]
    },
    {
      "cell_type": "code",
      "source": [
        "from Bio.Alphabet import IUPAC\n",
        "my_seq = Seq(\"AGTACACTGGT\", IUPAC.unambiguous_dna)\n",
        "my_seq"
      ],
      "metadata": {
        "colab": {
          "base_uri": "https://localhost:8080/"
        },
        "id": "QpDTrHvtLhqU",
        "outputId": "6d3682b7-36d0-4a67-c48e-e6d6e893f836"
      },
      "execution_count": 29,
      "outputs": [
        {
          "output_type": "execute_result",
          "data": {
            "text/plain": [
              "Seq('AGTACACTGGT', IUPACUnambiguousDNA())"
            ]
          },
          "metadata": {},
          "execution_count": 29
        }
      ]
    },
    {
      "cell_type": "code",
      "source": [
        "my_seq.alphabet"
      ],
      "metadata": {
        "colab": {
          "base_uri": "https://localhost:8080/"
        },
        "id": "gkxOTPuxLAOh",
        "outputId": "a5e74e50-411d-4a1c-ac68-3db83986f0e0"
      },
      "execution_count": 15,
      "outputs": [
        {
          "output_type": "execute_result",
          "data": {
            "text/plain": [
              "IUPACUnambiguousDNA()"
            ]
          },
          "metadata": {},
          "execution_count": 15
        }
      ]
    },
    {
      "cell_type": "code",
      "source": [
        "### Seq as python strings"
      ],
      "metadata": {
        "id": "UoaBxl2yERVo"
      },
      "execution_count": 16,
      "outputs": []
    },
    {
      "cell_type": "code",
      "source": [
        "## Seq objects as if they were normal Python strings, for example getting the length, or iterating over the elements"
      ],
      "metadata": {
        "id": "tFF2mVi2EU8i"
      },
      "execution_count": 17,
      "outputs": []
    },
    {
      "cell_type": "code",
      "source": [
        "for index, letter in enumerate(my_seq):\n",
        "   print(\"%i %s\" % (index, letter))"
      ],
      "metadata": {
        "colab": {
          "base_uri": "https://localhost:8080/"
        },
        "id": "iBdUgbMSFs0c",
        "outputId": "0dbbfcd9-66c6-4871-f34b-95280164bd43"
      },
      "execution_count": 18,
      "outputs": [
        {
          "output_type": "stream",
          "name": "stdout",
          "text": [
            "0 A\n",
            "1 G\n",
            "2 T\n",
            "3 A\n",
            "4 C\n",
            "5 A\n",
            "6 C\n",
            "7 T\n",
            "8 G\n",
            "9 G\n",
            "10 T\n"
          ]
        }
      ]
    },
    {
      "cell_type": "code",
      "source": [
        "len(my_seq)"
      ],
      "metadata": {
        "colab": {
          "base_uri": "https://localhost:8080/"
        },
        "id": "jmrTXUBlFvWL",
        "outputId": "045ceaa3-4776-42d2-9a1c-1fb8e064a7af"
      },
      "execution_count": 19,
      "outputs": [
        {
          "output_type": "execute_result",
          "data": {
            "text/plain": [
              "11"
            ]
          },
          "metadata": {},
          "execution_count": 19
        }
      ]
    },
    {
      "cell_type": "code",
      "source": [
        "## The Seq object has a .count() method, just like a string. \n",
        "my_seq.count(\"A\")"
      ],
      "metadata": {
        "colab": {
          "base_uri": "https://localhost:8080/"
        },
        "id": "J1HKYUsqFzEV",
        "outputId": "ae958a42-82df-4711-bfd6-a0b38be3e806"
      },
      "execution_count": 20,
      "outputs": [
        {
          "output_type": "execute_result",
          "data": {
            "text/plain": [
              "3"
            ]
          },
          "metadata": {},
          "execution_count": 20
        }
      ]
    },
    {
      "cell_type": "code",
      "source": [
        "my_seq.count(\"GT\")"
      ],
      "metadata": {
        "colab": {
          "base_uri": "https://localhost:8080/"
        },
        "id": "VLeFASTJGJTO",
        "outputId": "4061570e-92df-40db-c5fc-7526e672e696"
      },
      "execution_count": 21,
      "outputs": [
        {
          "output_type": "execute_result",
          "data": {
            "text/plain": [
              "2"
            ]
          },
          "metadata": {},
          "execution_count": 21
        }
      ]
    },
    {
      "cell_type": "code",
      "source": [
        "### Slicing a Seq object"
      ],
      "metadata": {
        "id": "UMuBZUGTF1Rh"
      },
      "execution_count": 22,
      "outputs": []
    },
    {
      "cell_type": "code",
      "source": [
        "## get a slice of the sequence\n",
        "my_seq[2:8]"
      ],
      "metadata": {
        "colab": {
          "base_uri": "https://localhost:8080/"
        },
        "id": "0vSF6M1-GUve",
        "outputId": "82d932b1-3e51-4b78-c2b3-13d0b6d94562"
      },
      "execution_count": 23,
      "outputs": [
        {
          "output_type": "execute_result",
          "data": {
            "text/plain": [
              "Seq('TACACT', IUPACUnambiguousDNA())"
            ]
          },
          "metadata": {},
          "execution_count": 23
        }
      ]
    },
    {
      "cell_type": "code",
      "source": [
        "## Concatenate sequence\n",
        "## You can in principle add any two Seq objects together just like you can with Python strings.\n",
        "## But Seq object are made for biological data so you the concatenation method only accept to merge sequences with compatible alphabets. \n",
        "from Bio.Alphabet import IUPAC\n",
        "p_seq = Seq(\"EVRNAK\", IUPAC.protein)\n",
        "d_seq = Seq('TACACT', IUPAC.unambiguous_dna)\n",
        "d_seq + my_seq\n"
      ],
      "metadata": {
        "colab": {
          "base_uri": "https://localhost:8080/"
        },
        "id": "2vyBDWVDGZPB",
        "outputId": "42688f40-ae51-49c4-badf-b0573667e516"
      },
      "execution_count": 26,
      "outputs": [
        {
          "output_type": "execute_result",
          "data": {
            "text/plain": [
              "Seq('TACACTAGTACACTGGT', IUPACUnambiguousDNA())"
            ]
          },
          "metadata": {},
          "execution_count": 26
        }
      ]
    },
    {
      "cell_type": "code",
      "source": [
        "p_seq + my_seq"
      ],
      "metadata": {
        "colab": {
          "base_uri": "https://localhost:8080/",
          "height": 286
        },
        "id": "dw0gaJP4HgKT",
        "outputId": "a7bf09c1-aba1-4ea3-a09c-61d8e4d1d5a7"
      },
      "execution_count": 27,
      "outputs": [
        {
          "output_type": "error",
          "ename": "TypeError",
          "evalue": "ignored",
          "traceback": [
            "\u001b[0;31m---------------------------------------------------------------------------\u001b[0m",
            "\u001b[0;31mTypeError\u001b[0m                                 Traceback (most recent call last)",
            "\u001b[0;32m<ipython-input-27-ed678bbfe19e>\u001b[0m in \u001b[0;36m<module>\u001b[0;34m()\u001b[0m\n\u001b[0;32m----> 1\u001b[0;31m \u001b[0mp_seq\u001b[0m \u001b[0;34m+\u001b[0m \u001b[0mmy_seq\u001b[0m\u001b[0;34m\u001b[0m\u001b[0;34m\u001b[0m\u001b[0m\n\u001b[0m",
            "\u001b[0;32m/usr/local/lib/python3.7/dist-packages/Bio/Seq.py\u001b[0m in \u001b[0;36m__add__\u001b[0;34m(self, other)\u001b[0m\n\u001b[1;32m    301\u001b[0m                 raise TypeError(\n\u001b[1;32m    302\u001b[0m                     \"Incompatible alphabets {0!r} and {1!r}\".format(\n\u001b[0;32m--> 303\u001b[0;31m                         self.alphabet, other.alphabet))\n\u001b[0m\u001b[1;32m    304\u001b[0m             \u001b[0;31m# They should be the same sequence type (or one of them is generic)\u001b[0m\u001b[0;34m\u001b[0m\u001b[0;34m\u001b[0m\u001b[0;34m\u001b[0m\u001b[0m\n\u001b[1;32m    305\u001b[0m             \u001b[0ma\u001b[0m \u001b[0;34m=\u001b[0m \u001b[0mAlphabet\u001b[0m\u001b[0;34m.\u001b[0m\u001b[0m_consensus_alphabet\u001b[0m\u001b[0;34m(\u001b[0m\u001b[0;34m[\u001b[0m\u001b[0mself\u001b[0m\u001b[0;34m.\u001b[0m\u001b[0malphabet\u001b[0m\u001b[0;34m,\u001b[0m \u001b[0mother\u001b[0m\u001b[0;34m.\u001b[0m\u001b[0malphabet\u001b[0m\u001b[0;34m]\u001b[0m\u001b[0;34m)\u001b[0m\u001b[0;34m\u001b[0m\u001b[0;34m\u001b[0m\u001b[0m\n",
            "\u001b[0;31mTypeError\u001b[0m: Incompatible alphabets IUPACProtein() and IUPACUnambiguousDNA()"
          ]
        }
      ]
    },
    {
      "cell_type": "code",
      "source": [
        "my_seq"
      ],
      "metadata": {
        "colab": {
          "base_uri": "https://localhost:8080/"
        },
        "id": "cWu5x8cPNNVh",
        "outputId": "429a1cad-93b6-42aa-b5ee-31deca1d1801"
      },
      "execution_count": 31,
      "outputs": [
        {
          "output_type": "execute_result",
          "data": {
            "text/plain": [
              "Seq('AGTACACTGGT', IUPACUnambiguousDNA())"
            ]
          },
          "metadata": {},
          "execution_count": 31
        }
      ]
    },
    {
      "cell_type": "code",
      "source": [
        "## You could use the -1 stride to reverse the string\n",
        "my_seq[::-1]"
      ],
      "metadata": {
        "colab": {
          "base_uri": "https://localhost:8080/"
        },
        "id": "SwE-XLntMSFp",
        "outputId": "5e4413b7-6b52-4ef7-a5e4-01ebad8233f4"
      },
      "execution_count": 30,
      "outputs": [
        {
          "output_type": "execute_result",
          "data": {
            "text/plain": [
              "Seq('TGGTCACATGA', IUPACUnambiguousDNA())"
            ]
          },
          "metadata": {},
          "execution_count": 30
        }
      ]
    },
    {
      "cell_type": "code",
      "source": [
        "## You can easily obtain the complement or reverse complement of a Seq object using its built-in methods:\n",
        "my_seq.complement()"
      ],
      "metadata": {
        "colab": {
          "base_uri": "https://localhost:8080/"
        },
        "id": "mppgPxX1NKiM",
        "outputId": "e1101e1c-6ba7-4a38-98bd-42d919c4c6fa"
      },
      "execution_count": 33,
      "outputs": [
        {
          "output_type": "execute_result",
          "data": {
            "text/plain": [
              "Seq('TCATGTGACCA', IUPACUnambiguousDNA())"
            ]
          },
          "metadata": {},
          "execution_count": 33
        }
      ]
    },
    {
      "cell_type": "code",
      "source": [
        "##The reverse complement for a given DNA string can be identified by reversing the original string and translating\n",
        " ##   each of the DNA bases with its complement.\n",
        "my_seq.reverse_complement()"
      ],
      "metadata": {
        "colab": {
          "base_uri": "https://localhost:8080/"
        },
        "id": "QKH_cAS2NZRa",
        "outputId": "e3afe70a-a142-4ed7-e3ed-b456f1138186"
      },
      "execution_count": 35,
      "outputs": [
        {
          "output_type": "execute_result",
          "data": {
            "text/plain": [
              "Seq('ACCAGTGTACT', IUPACUnambiguousDNA())"
            ]
          },
          "metadata": {},
          "execution_count": 35
        }
      ]
    },
    {
      "cell_type": "code",
      "source": [
        "## Note that these methods only work for dna alphabet. Trying to (reverse)complement a protein sequence will raise you an error:\n",
        "p_seq = Seq(\"EVRNAK\", IUPAC.protein)\n",
        "p_seq.reverse_complement()"
      ],
      "metadata": {
        "colab": {
          "base_uri": "https://localhost:8080/",
          "height": 346
        },
        "id": "x9VeFReKNgod",
        "outputId": "69021d95-885e-4314-c087-fef5df38dd3a"
      },
      "execution_count": 36,
      "outputs": [
        {
          "output_type": "error",
          "ename": "ValueError",
          "evalue": "ignored",
          "traceback": [
            "\u001b[0;31m---------------------------------------------------------------------------\u001b[0m",
            "\u001b[0;31mValueError\u001b[0m                                Traceback (most recent call last)",
            "\u001b[0;32m<ipython-input-36-1471afba9597>\u001b[0m in \u001b[0;36m<module>\u001b[0;34m()\u001b[0m\n\u001b[1;32m      1\u001b[0m \u001b[0;31m## Note that these methods only work for dna alphabet. Trying to (reverse)complement a protein sequence will raise you an error:\u001b[0m\u001b[0;34m\u001b[0m\u001b[0;34m\u001b[0m\u001b[0;34m\u001b[0m\u001b[0m\n\u001b[1;32m      2\u001b[0m \u001b[0mp_seq\u001b[0m \u001b[0;34m=\u001b[0m \u001b[0mSeq\u001b[0m\u001b[0;34m(\u001b[0m\u001b[0;34m\"EVRNAK\"\u001b[0m\u001b[0;34m,\u001b[0m \u001b[0mIUPAC\u001b[0m\u001b[0;34m.\u001b[0m\u001b[0mprotein\u001b[0m\u001b[0;34m)\u001b[0m\u001b[0;34m\u001b[0m\u001b[0;34m\u001b[0m\u001b[0m\n\u001b[0;32m----> 3\u001b[0;31m \u001b[0mp_seq\u001b[0m\u001b[0;34m.\u001b[0m\u001b[0mreverse_complement\u001b[0m\u001b[0;34m(\u001b[0m\u001b[0;34m)\u001b[0m\u001b[0;34m\u001b[0m\u001b[0;34m\u001b[0m\u001b[0m\n\u001b[0m",
            "\u001b[0;32m/usr/local/lib/python3.7/dist-packages/Bio/Seq.py\u001b[0m in \u001b[0;36mreverse_complement\u001b[0;34m(self)\u001b[0m\n\u001b[1;32m    893\u001b[0m         \"\"\"\n\u001b[1;32m    894\u001b[0m         \u001b[0;31m# Use -1 stride/step to reverse the complement\u001b[0m\u001b[0;34m\u001b[0m\u001b[0;34m\u001b[0m\u001b[0;34m\u001b[0m\u001b[0m\n\u001b[0;32m--> 895\u001b[0;31m         \u001b[0;32mreturn\u001b[0m \u001b[0mself\u001b[0m\u001b[0;34m.\u001b[0m\u001b[0mcomplement\u001b[0m\u001b[0;34m(\u001b[0m\u001b[0;34m)\u001b[0m\u001b[0;34m[\u001b[0m\u001b[0;34m:\u001b[0m\u001b[0;34m:\u001b[0m\u001b[0;34m-\u001b[0m\u001b[0;36m1\u001b[0m\u001b[0;34m]\u001b[0m\u001b[0;34m\u001b[0m\u001b[0;34m\u001b[0m\u001b[0m\n\u001b[0m\u001b[1;32m    896\u001b[0m \u001b[0;34m\u001b[0m\u001b[0m\n\u001b[1;32m    897\u001b[0m     \u001b[0;32mdef\u001b[0m \u001b[0mtranscribe\u001b[0m\u001b[0;34m(\u001b[0m\u001b[0mself\u001b[0m\u001b[0;34m)\u001b[0m\u001b[0;34m:\u001b[0m\u001b[0;34m\u001b[0m\u001b[0;34m\u001b[0m\u001b[0m\n",
            "\u001b[0;32m/usr/local/lib/python3.7/dist-packages/Bio/Seq.py\u001b[0m in \u001b[0;36mcomplement\u001b[0;34m(self)\u001b[0m\n\u001b[1;32m    843\u001b[0m         \u001b[0mbase\u001b[0m \u001b[0;34m=\u001b[0m \u001b[0mAlphabet\u001b[0m\u001b[0;34m.\u001b[0m\u001b[0m_get_base_alphabet\u001b[0m\u001b[0;34m(\u001b[0m\u001b[0mself\u001b[0m\u001b[0;34m.\u001b[0m\u001b[0malphabet\u001b[0m\u001b[0;34m)\u001b[0m\u001b[0;34m\u001b[0m\u001b[0;34m\u001b[0m\u001b[0m\n\u001b[1;32m    844\u001b[0m         \u001b[0;32mif\u001b[0m \u001b[0misinstance\u001b[0m\u001b[0;34m(\u001b[0m\u001b[0mbase\u001b[0m\u001b[0;34m,\u001b[0m \u001b[0mAlphabet\u001b[0m\u001b[0;34m.\u001b[0m\u001b[0mProteinAlphabet\u001b[0m\u001b[0;34m)\u001b[0m\u001b[0;34m:\u001b[0m\u001b[0;34m\u001b[0m\u001b[0;34m\u001b[0m\u001b[0m\n\u001b[0;32m--> 845\u001b[0;31m             \u001b[0;32mraise\u001b[0m \u001b[0mValueError\u001b[0m\u001b[0;34m(\u001b[0m\u001b[0;34m\"Proteins do not have complements!\"\u001b[0m\u001b[0;34m)\u001b[0m\u001b[0;34m\u001b[0m\u001b[0;34m\u001b[0m\u001b[0m\n\u001b[0m\u001b[1;32m    846\u001b[0m         \u001b[0;32mif\u001b[0m \u001b[0misinstance\u001b[0m\u001b[0;34m(\u001b[0m\u001b[0mbase\u001b[0m\u001b[0;34m,\u001b[0m \u001b[0mAlphabet\u001b[0m\u001b[0;34m.\u001b[0m\u001b[0mDNAAlphabet\u001b[0m\u001b[0;34m)\u001b[0m\u001b[0;34m:\u001b[0m\u001b[0;34m\u001b[0m\u001b[0;34m\u001b[0m\u001b[0m\n\u001b[1;32m    847\u001b[0m             \u001b[0mttable\u001b[0m \u001b[0;34m=\u001b[0m \u001b[0m_dna_complement_table\u001b[0m\u001b[0;34m\u001b[0m\u001b[0;34m\u001b[0m\u001b[0m\n",
            "\u001b[0;31mValueError\u001b[0m: Proteins do not have complements!"
          ]
        }
      ]
    },
    {
      "cell_type": "code",
      "source": [
        "## Transcription, reverse transcription and translation"
      ],
      "metadata": {
        "id": "UWmOgVpOPCA8"
      },
      "execution_count": 37,
      "outputs": []
    },
    {
      "cell_type": "code",
      "source": [
        "## Biologically the transcription do a reverse complement of the template strand while inserting Uracile instead of Thymine (TCAG → CUGA) to give the RNA."
      ],
      "metadata": {
        "id": "NxaAfhWNPMoD"
      },
      "execution_count": 38,
      "outputs": []
    },
    {
      "cell_type": "code",
      "source": [
        "## However, in Biopython and bioinformatics in general, we typically work directly with the \n",
        "## coding strand because this means we can get the mRNA sequence just by switching T → U"
      ],
      "metadata": {
        "id": "tdmkNYimRTdx"
      },
      "execution_count": 39,
      "outputs": []
    },
    {
      "cell_type": "code",
      "source": [
        "## Let's do a simple transcription of our sequence:"
      ],
      "metadata": {
        "id": "AU-2YJbORVJj"
      },
      "execution_count": 42,
      "outputs": []
    },
    {
      "cell_type": "code",
      "source": [
        "my_seq"
      ],
      "metadata": {
        "colab": {
          "base_uri": "https://localhost:8080/"
        },
        "id": "SDwBCImVRhCU",
        "outputId": "20fc281c-659a-476d-ea92-8d9a8837997c"
      },
      "execution_count": 43,
      "outputs": [
        {
          "output_type": "execute_result",
          "data": {
            "text/plain": [
              "Seq('AGTACACTGGT', IUPACUnambiguousDNA())"
            ]
          },
          "metadata": {},
          "execution_count": 43
        }
      ]
    },
    {
      "cell_type": "code",
      "source": [
        "r_seq=my_seq.transcribe()\n",
        "r_seq"
      ],
      "metadata": {
        "colab": {
          "base_uri": "https://localhost:8080/"
        },
        "id": "KjVFooXtRYkx",
        "outputId": "50f693d3-3ed9-4248-e0c9-f57acfbb7605"
      },
      "execution_count": 41,
      "outputs": [
        {
          "output_type": "execute_result",
          "data": {
            "text/plain": [
              "Seq('AGUACACUGGU', IUPACUnambiguousRNA())"
            ]
          },
          "metadata": {},
          "execution_count": 41
        }
      ]
    },
    {
      "cell_type": "code",
      "source": [
        "## And a reverse transcription of the resulting sequence:\n",
        "## As you can see, all this does is switch T -> U or U -> T and adjust the alphabet"
      ],
      "metadata": {
        "id": "EdLVOcLARaa6"
      },
      "execution_count": 46,
      "outputs": []
    },
    {
      "cell_type": "code",
      "source": [
        "r_seq.back_transcribe()"
      ],
      "metadata": {
        "colab": {
          "base_uri": "https://localhost:8080/"
        },
        "id": "BorGRESYRti-",
        "outputId": "f40e1f05-bc3e-4b3c-83a4-84fe6360854d"
      },
      "execution_count": 53,
      "outputs": [
        {
          "output_type": "execute_result",
          "data": {
            "text/plain": [
              "Seq('AGTACACTGGT', IUPACUnambiguousDNA())"
            ]
          },
          "metadata": {},
          "execution_count": 53
        }
      ]
    },
    {
      "cell_type": "code",
      "source": [
        "## Now let’s translate this mRNA into the corresponding protein sequence"
      ],
      "metadata": {
        "id": "jYl-GP8cSt3R"
      },
      "execution_count": 54,
      "outputs": []
    },
    {
      "cell_type": "code",
      "source": [
        "p_seq = r_seq.translate()\n",
        "p_seq"
      ],
      "metadata": {
        "colab": {
          "base_uri": "https://localhost:8080/"
        },
        "id": "pGnPG7jXSyuR",
        "outputId": "2132c44f-df5f-42e6-e0f3-645bd9bbcaf6"
      },
      "execution_count": 55,
      "outputs": [
        {
          "output_type": "stream",
          "name": "stderr",
          "text": [
            "/usr/local/lib/python3.7/dist-packages/Bio/Seq.py:2423: BiopythonWarning: Partial codon, len(sequence) not a multiple of three. Explicitly trim the sequence or add trailing N before translation. This may become an error in future.\n",
            "  BiopythonWarning)\n"
          ]
        },
        {
          "output_type": "execute_result",
          "data": {
            "text/plain": [
              "Seq('STL', IUPACProtein())"
            ]
          },
          "metadata": {},
          "execution_count": 55
        }
      ]
    },
    {
      "cell_type": "code",
      "source": [
        "##Could you generate the mRNA from this template strand sequence: 'TACCGGTAACATTACCCGGCGACTTTCCCACGGGCTATC' ?"
      ],
      "metadata": {
        "id": "jTG0OuFCRvg0"
      },
      "execution_count": 48,
      "outputs": []
    },
    {
      "cell_type": "code",
      "source": [
        "reverse_template_dna = Seq('TACCGGTAACATTACCCGGCGACTTTCCCACGGGCTATC', IUPAC.unambiguous_dna)\n",
        "reverse_template_dna.complement().transcribe()"
      ],
      "metadata": {
        "colab": {
          "base_uri": "https://localhost:8080/"
        },
        "id": "fGneCbSZSSaH",
        "outputId": "2618498d-970c-47c5-f69b-3f9129f5f0f4"
      },
      "execution_count": 49,
      "outputs": [
        {
          "output_type": "execute_result",
          "data": {
            "text/plain": [
              "Seq('AUGGCCAUUGUAAUGGGCCGCUGAAAGGGUGCCCGAUAG', IUPACUnambiguousRNA())"
            ]
          },
          "metadata": {},
          "execution_count": 49
        }
      ]
    },
    {
      "cell_type": "code",
      "source": [
        ""
      ],
      "metadata": {
        "id": "LO6qKpY_SfrP"
      },
      "execution_count": null,
      "outputs": []
    }
  ]
}